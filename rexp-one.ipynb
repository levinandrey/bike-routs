{
 "cells": [
  {
   "cell_type": "code",
   "execution_count": 5,
   "id": "theoretical-electric",
   "metadata": {},
   "outputs": [],
   "source": [
    "import pandas as pd\n",
    "\n",
    "import requests\n",
    "import json"
   ]
  },
  {
   "cell_type": "code",
   "execution_count": 9,
   "id": "significant-thanksgiving",
   "metadata": {},
   "outputs": [
    {
     "name": "stdout",
     "output_type": "stream",
     "text": [
      "{'token_type': 'Bearer', 'expires_at': 1614732481, 'expires_in': 21600, 'refresh_token': '1be0d6de690d5e17e90f397b9fc427bb49da7251', 'access_token': 'f5b1d486cc67603b15e92132b21c527b12971d1c', 'athlete': {'id': 22636627, 'username': 'andreylevin', 'resource_state': 2, 'firstname': 'Andrey', 'lastname': 'Levin', 'bio': 'https://github.com/levinandrey/bike-routs\\n', 'city': '', 'state': '', 'country': '', 'sex': 'M', 'premium': False, 'summit': False, 'created_at': '2017-06-12T14:42:16Z', 'updated_at': '2021-01-10T23:08:10Z', 'badge_type_id': 0, 'weight': 72.0, 'profile_medium': 'https://dgalywyr863hv.cloudfront.net/pictures/athletes/22636627/9563277/1/medium.jpg', 'profile': 'https://dgalywyr863hv.cloudfront.net/pictures/athletes/22636627/9563277/1/large.jpg', 'friend': None, 'follower': None}}\n"
     ]
    }
   ],
   "source": [
    "# https://medium.com/swlh/using-python-to-connect-to-stravas-api-and-analyse-your-activities-dummies-guide-5f49727aac86\n",
    "\n",
    "import requests\n",
    "import json\n",
    "# Make Strava auth API call with your \n",
    "# client_code, client_secret and code\n",
    "\n",
    "CLIENT_ID = '38959'\n",
    "CLIENT_SECRET_KEY = '79fdd7f8e48be1c2afa50463d83eb27af8819815'\n",
    "CODE_FROM_URL = '46313967b7a9839faf793b976c60c73084c34f8c'\n",
    "\n",
    "response = requests.post(\n",
    "                    url = 'https://www.strava.com/oauth/token',\n",
    "                    data = {\n",
    "                            'client_id': CLIENT_ID,\n",
    "                            'client_secret': CLIENT_SECRET_KEY,\n",
    "                            'code': CODE_FROM_URL,\n",
    "                            'grant_type': 'authorization_code'\n",
    "                            }\n",
    "                )\n",
    "#Save json response as a variable\n",
    "strava_tokens = response.json()\n",
    "# Save tokens to file\n",
    "with open('strava_tokens.json', 'w') as outfile:\n",
    "    json.dump(strava_tokens, outfile)\n",
    "# Open JSON file and print the file contents \n",
    "# to check it's worked properly\n",
    "with open('strava_tokens.json') as check:\n",
    "  data = json.load(check)\n",
    "print(data)"
   ]
  },
  {
   "cell_type": "code",
   "execution_count": 10,
   "id": "sustained-school",
   "metadata": {},
   "outputs": [
    {
     "name": "stderr",
     "output_type": "stream",
     "text": [
      "<ipython-input-10-4368709a2ea0>:15: FutureWarning: pandas.io.json.json_normalize is deprecated, use pandas.json_normalize instead\n",
      "  df = json_normalize(r)\n"
     ]
    }
   ],
   "source": [
    "# Eventually Getting Your Activities!\n",
    "\n",
    "import requests\n",
    "from pandas.io.json import json_normalize\n",
    "import json\n",
    "import csv\n",
    "# Get the tokens from file to connect to Strava\n",
    "with open('strava_tokens.json') as json_file:\n",
    "    strava_tokens = json.load(json_file)\n",
    "# Loop through all activities\n",
    "url = \"https://www.strava.com/api/v3/activities\"\n",
    "access_token = strava_tokens['access_token']\n",
    "# Get first page of activities from Strava with all fields\n",
    "r = requests.get(url + '?access_token=' + access_token)\n",
    "r = r.json()\n",
    "    \n",
    "df = json_normalize(r)\n",
    "df.to_csv('strava_activities_all_fields.csv')"
   ]
  },
  {
   "cell_type": "code",
   "execution_count": null,
   "id": "composite-state",
   "metadata": {},
   "outputs": [],
   "source": []
  }
 ],
 "metadata": {
  "kernelspec": {
   "display_name": "Python 3",
   "language": "python",
   "name": "python3"
  },
  "language_info": {
   "codemirror_mode": {
    "name": "ipython",
    "version": 3
   },
   "file_extension": ".py",
   "mimetype": "text/x-python",
   "name": "python",
   "nbconvert_exporter": "python",
   "pygments_lexer": "ipython3",
   "version": "3.9.1"
  }
 },
 "nbformat": 4,
 "nbformat_minor": 5
}
